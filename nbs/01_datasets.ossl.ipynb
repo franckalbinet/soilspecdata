{
 "cells": [
  {
   "cell_type": "markdown",
   "metadata": {},
   "source": [
    "# OSSL datasets\n",
    "\n",
    "> Data loading for the [OSSL dataset](https://explorer.soilspectroscopy.org/)"
   ]
  },
  {
   "cell_type": "code",
   "execution_count": null,
   "metadata": {},
   "outputs": [],
   "source": [
    "#| default_exp datasets.ossl"
   ]
  },
  {
   "cell_type": "code",
   "execution_count": null,
   "metadata": {},
   "outputs": [],
   "source": [
    "#| export\n",
    "from fastcore.all import *\n",
    "from pathlib import Path\n",
    "import pandas as pd\n",
    "from urllib.request import urlretrieve\n",
    "import re\n",
    "import numpy as np\n",
    "\n",
    "from soilspecdata.types import *"
   ]
  },
  {
   "cell_type": "code",
   "execution_count": null,
   "metadata": {},
   "outputs": [],
   "source": [
    "#| hide\n",
    "from nbdev.showdoc import show_doc"
   ]
  },
  {
   "cell_type": "markdown",
   "metadata": {},
   "source": [
    "The official [OSSL documentation](https://soilspectroscopy.github.io/ossl-manual/db-desc.html) provides more details on the dataset and its variables. "
   ]
  },
  {
   "cell_type": "code",
   "execution_count": null,
   "metadata": {},
   "outputs": [],
   "source": [
    "#| export\n",
    "class OSSLData:\n",
    "    \"OSSL (Open Soil Spectral Library) data container\"\n",
    "    def __init__(self, \n",
    "                 df: pd.DataFrame # dataframe containing OSSL data\n",
    "                 ):\n",
    "        self.df = df\n",
    "        self._parse_columns()        \n",
    "        self.sample_ids = (df['id.layer_local_c'].values if 'id.layer_local_c' \n",
    "                           in df.columns else np.arange(len(df)))"
   ]
  },
  {
   "cell_type": "code",
   "execution_count": null,
   "metadata": {},
   "outputs": [],
   "source": [
    "#| export\n",
    "@patch\n",
    "def _parse_columns(self:OSSLData):\n",
    "    \"Parse columns into visnir, mir and properties\"\n",
    "    self.visnir_cols = [c for c in self.df.columns if re.match(r'scan_visnir\\.\\d+_ref', c)]\n",
    "    self.mir_cols = [c for c in self.df.columns if re.match(r'scan_mir\\.\\d+_abs', c)]\n",
    "    spectral_cols = set(self.visnir_cols + self.mir_cols)\n",
    "    self.properties_cols = [c for c in self.df.columns if c not in spectral_cols]"
   ]
  },
  {
   "cell_type": "code",
   "execution_count": null,
   "metadata": {},
   "outputs": [
    {
     "data": {
      "text/markdown": [
       "---\n",
       "\n",
       "[source](https://github.com/franckalbinet/soilspecdata/blob/main/soilspecdata/datasets/ossl.py#L28){target=\"_blank\" style=\"float:right; font-size:smaller\"}\n",
       "\n",
       "### OSSLData._parse_columns\n",
       "\n",
       ">      OSSLData._parse_columns ()\n",
       "\n",
       "*Parse columns into visnir, mir and properties*"
      ],
      "text/plain": [
       "---\n",
       "\n",
       "[source](https://github.com/franckalbinet/soilspecdata/blob/main/soilspecdata/datasets/ossl.py#L28){target=\"_blank\" style=\"float:right; font-size:smaller\"}\n",
       "\n",
       "### OSSLData._parse_columns\n",
       "\n",
       ">      OSSLData._parse_columns ()\n",
       "\n",
       "*Parse columns into visnir, mir and properties*"
      ]
     },
     "execution_count": null,
     "metadata": {},
     "output_type": "execute_result"
    }
   ],
   "source": [
    "show_doc(OSSLData._parse_columns)"
   ]
  },
  {
   "cell_type": "code",
   "execution_count": null,
   "metadata": {},
   "outputs": [],
   "source": [
    "#| export\n",
    "def get_cache_path(\n",
    "    dest_dir: str='.soilspecdata', # Name of the cache directory\n",
    "    ) -> Path: # Path to the cache directory (~/dest_dir)\n",
    "    \"Get cache path for OSSL data\"\n",
    "    return Path.home()/dest_dir"
   ]
  },
  {
   "cell_type": "markdown",
   "metadata": {},
   "source": [
    "For instance:"
   ]
  },
  {
   "cell_type": "code",
   "execution_count": null,
   "metadata": {},
   "outputs": [
    {
     "data": {
      "text/plain": [
       "Path('/Users/franckalbinet/.soilspecdata')"
      ]
     },
     "execution_count": null,
     "metadata": {},
     "output_type": "execute_result"
    }
   ],
   "source": [
    "#| eval: false\n",
    "get_cache_path()"
   ]
  },
  {
   "cell_type": "markdown",
   "metadata": {},
   "source": [
    "The default gzipped file is downloaded from the following URL: [https://storage.googleapis.com/soilspec4gg-public/ossl_all_L0_v1.2.csv.gz](https://storage.googleapis.com/soilspec4gg-public/ossl_all_L0_v1.2.csv.gz)"
   ]
  },
  {
   "cell_type": "code",
   "execution_count": null,
   "metadata": {},
   "outputs": [],
   "source": [
    "#| export\n",
    "def get_ossl(\n",
    "    url='https://storage.googleapis.com/soilspec4gg-public/ossl_all_L0_v1.2.csv.gz', # OSSL data gzipped file URL\n",
    "    force_download=False # if True, force download\n",
    "    ):\n",
    "    \"Load OSSL data from cache or download it\"\n",
    "    cache_path = get_cache_path()/'ossl_v1.2.csv.gz'\n",
    "    if not cache_path.exists() or force_download:\n",
    "        cache_path.parent.mkdir(exist_ok=True)\n",
    "        urlretrieve(url, cache_path)\n",
    "        \n",
    "     # Define date columns\n",
    "    date_columns = [\n",
    "        'scan.mir.date.begin_iso.8601_yyyy.mm.dd',\n",
    "        'scan.mir.date.end_iso.8601_yyyy.mm.dd',\n",
    "        'scan.visnir.date.begin_iso.8601_yyyy.mm.dd',\n",
    "        'scan.visnir.date.end_iso.8601_yyyy.mm.dd'\n",
    "    ]\n",
    "    \n",
    "    # Update dtype dictionary without datetime columns\n",
    "    dtype = {\n",
    "        # IDs and codes\n",
    "        'id.layer_local_c': 'string',\n",
    "        'id.location_olc_txt': 'string',\n",
    "        'id.dataset.site_ascii_txt': 'string',\n",
    "        'id.scan_local_c': 'string',\n",
    "        \n",
    "        # Categorical text fields\n",
    "        'layer.texture_usda_txt': 'category',\n",
    "        'pedon.taxa_usda_txt': 'category',\n",
    "        'horizon.designation_usda_txt': 'category',\n",
    "        'location.country_iso.3166_txt': 'category',\n",
    "        'surveyor.address_utf8_txt': 'category',\n",
    "        'efferv_usda.a479_class': 'category',\n",
    "        \n",
    "        # Text fields\n",
    "        'scan.mir.model.name_utf8_txt': 'string',\n",
    "        'scan.mir.model.code_any_txt': 'string',\n",
    "        'scan.mir.method.optics_any_txt': 'string',\n",
    "        'scan.mir.method.preparation_any_txt': 'string',\n",
    "        'scan.mir.license.title_ascii_txt': 'string',\n",
    "        'scan.mir.license.address_idn_url': 'string',\n",
    "        'scan.mir.doi_idf_url': 'string',\n",
    "        'scan.mir.contact.name_utf8_txt': 'string',\n",
    "        'scan.mir.contact.email_ietf_txt': 'string',\n",
    "        'scan.visnir.model.name_utf8_txt': 'string',\n",
    "        'scan.visnir.model.code_any_txt': 'string',\n",
    "        'scan.visnir.method.optics_any_txt': 'string',\n",
    "        'scan.visnir.method.preparation_any_txt': 'string',\n",
    "        'scan.visnir.license.title_ascii_txt': 'string',\n",
    "        'scan.visnir.license.address_idn_url': 'string',\n",
    "        'scan.visnir.doi_idf_url': 'string',\n",
    "        'scan.visnir.contact.name_utf8_txt': 'string',\n",
    "        'scan.visnir.contact.email_ietf_txt': 'string'\n",
    "    }\n",
    "    df = pd.read_csv(cache_path, compression='gzip', dtype=dtype,\n",
    "                     parse_dates=date_columns)\n",
    "    return OSSLData(df)"
   ]
  },
  {
   "cell_type": "markdown",
   "metadata": {},
   "source": [
    "How to use it:"
   ]
  },
  {
   "cell_type": "code",
   "execution_count": null,
   "metadata": {},
   "outputs": [],
   "source": [
    "#| eval: false\n",
    "ossl = get_ossl(force_download=False)"
   ]
  },
  {
   "cell_type": "code",
   "execution_count": null,
   "metadata": {},
   "outputs": [
    {
     "data": {
      "text/plain": [
       "(['scan_visnir.350_ref', 'scan_visnir.352_ref'],\n",
       " ['scan_mir.600_abs', 'scan_mir.602_abs'],\n",
       " ['dataset.code_ascii_txt', 'id.layer_local_c'])"
      ]
     },
     "execution_count": null,
     "metadata": {},
     "output_type": "execute_result"
    }
   ],
   "source": [
    "#| eval: false\n",
    "ossl.visnir_cols[:2], ossl.mir_cols[:2], ossl.properties_cols[:2]"
   ]
  },
  {
   "cell_type": "code",
   "execution_count": null,
   "metadata": {},
   "outputs": [],
   "source": [
    "#| export   \n",
    "@patch\n",
    "def _get_valid_spectra_mask(self:OSSLData, \n",
    "                            spectra_cols: List[str] # Spectra column names\n",
    "                            ) -> np.ndarray: # Mask\n",
    "    \"Return mask for samples with all non-null values in spectra\"\n",
    "    return self.df[spectra_cols].notna().all(axis=1)"
   ]
  },
  {
   "cell_type": "code",
   "execution_count": null,
   "metadata": {},
   "outputs": [
    {
     "data": {
      "text/markdown": [
       "---\n",
       "\n",
       "[source](https://github.com/franckalbinet/soilspecdata/blob/main/soilspecdata/datasets/ossl.py#L98){target=\"_blank\" style=\"float:right; font-size:smaller\"}\n",
       "\n",
       "### OSSLData._get_valid_spectra_mask\n",
       "\n",
       ">      OSSLData._get_valid_spectra_mask (spectra_cols:List[str])\n",
       "\n",
       "*Return mask for samples with all non-null values in spectra*\n",
       "\n",
       "|    | **Type** | **Details** |\n",
       "| -- | -------- | ----------- |\n",
       "| spectra_cols | List | Spectra column names |\n",
       "| **Returns** | **ndarray** | **Mask** |"
      ],
      "text/plain": [
       "---\n",
       "\n",
       "[source](https://github.com/franckalbinet/soilspecdata/blob/main/soilspecdata/datasets/ossl.py#L98){target=\"_blank\" style=\"float:right; font-size:smaller\"}\n",
       "\n",
       "### OSSLData._get_valid_spectra_mask\n",
       "\n",
       ">      OSSLData._get_valid_spectra_mask (spectra_cols:List[str])\n",
       "\n",
       "*Return mask for samples with all non-null values in spectra*\n",
       "\n",
       "|    | **Type** | **Details** |\n",
       "| -- | -------- | ----------- |\n",
       "| spectra_cols | List | Spectra column names |\n",
       "| **Returns** | **ndarray** | **Mask** |"
      ]
     },
     "execution_count": null,
     "metadata": {},
     "output_type": "execute_result"
    }
   ],
   "source": [
    "show_doc(OSSLData._get_valid_spectra_mask)"
   ]
  },
  {
   "cell_type": "markdown",
   "metadata": {},
   "source": [
    "OSSL gzip archive is formated in a wide format (with metadata, soil properties, visnir and mir spectra as columns). Note that all samples have not been scanned simultaneously with VisNIR and MIR instruments according to the data source/provider. \n",
    "\n",
    "As a result, when selecting a subset of columns, e.g. `ossl.mir_cols`, the returned dataframe will have a lot of missing values (`NaN`). The above function return a mask for samples with all non-null values in spectra."
   ]
  },
  {
   "cell_type": "code",
   "execution_count": null,
   "metadata": {},
   "outputs": [
    {
     "data": {
      "text/html": [
       "<div>\n",
       "<style scoped>\n",
       "    .dataframe tbody tr th:only-of-type {\n",
       "        vertical-align: middle;\n",
       "    }\n",
       "\n",
       "    .dataframe tbody tr th {\n",
       "        vertical-align: top;\n",
       "    }\n",
       "\n",
       "    .dataframe thead th {\n",
       "        text-align: right;\n",
       "    }\n",
       "</style>\n",
       "<table border=\"1\" class=\"dataframe\">\n",
       "  <thead>\n",
       "    <tr style=\"text-align: right;\">\n",
       "      <th></th>\n",
       "      <th>scan_mir.600_abs</th>\n",
       "      <th>scan_mir.602_abs</th>\n",
       "      <th>scan_mir.604_abs</th>\n",
       "      <th>scan_mir.606_abs</th>\n",
       "      <th>scan_mir.608_abs</th>\n",
       "      <th>scan_mir.610_abs</th>\n",
       "      <th>scan_mir.612_abs</th>\n",
       "      <th>scan_mir.614_abs</th>\n",
       "      <th>scan_mir.616_abs</th>\n",
       "      <th>scan_mir.618_abs</th>\n",
       "      <th>...</th>\n",
       "      <th>scan_mir.3982_abs</th>\n",
       "      <th>scan_mir.3984_abs</th>\n",
       "      <th>scan_mir.3986_abs</th>\n",
       "      <th>scan_mir.3988_abs</th>\n",
       "      <th>scan_mir.3990_abs</th>\n",
       "      <th>scan_mir.3992_abs</th>\n",
       "      <th>scan_mir.3994_abs</th>\n",
       "      <th>scan_mir.3996_abs</th>\n",
       "      <th>scan_mir.3998_abs</th>\n",
       "      <th>scan_mir.4000_abs</th>\n",
       "    </tr>\n",
       "  </thead>\n",
       "  <tbody>\n",
       "    <tr>\n",
       "      <th>0</th>\n",
       "      <td>1.527853</td>\n",
       "      <td>1.531908</td>\n",
       "      <td>1.532084</td>\n",
       "      <td>1.530892</td>\n",
       "      <td>1.530645</td>\n",
       "      <td>1.531506</td>\n",
       "      <td>1.531582</td>\n",
       "      <td>1.531413</td>\n",
       "      <td>1.532904</td>\n",
       "      <td>1.535459</td>\n",
       "      <td>...</td>\n",
       "      <td>0.356776</td>\n",
       "      <td>0.356642</td>\n",
       "      <td>0.355784</td>\n",
       "      <td>0.354743</td>\n",
       "      <td>0.354104</td>\n",
       "      <td>0.353663</td>\n",
       "      <td>0.353237</td>\n",
       "      <td>0.352923</td>\n",
       "      <td>0.352548</td>\n",
       "      <td>0.352053</td>\n",
       "    </tr>\n",
       "    <tr>\n",
       "      <th>1</th>\n",
       "      <td>1.538449</td>\n",
       "      <td>1.543622</td>\n",
       "      <td>1.545751</td>\n",
       "      <td>1.546997</td>\n",
       "      <td>1.549450</td>\n",
       "      <td>1.553714</td>\n",
       "      <td>1.557981</td>\n",
       "      <td>1.561652</td>\n",
       "      <td>1.566082</td>\n",
       "      <td>1.571555</td>\n",
       "      <td>...</td>\n",
       "      <td>0.358399</td>\n",
       "      <td>0.358142</td>\n",
       "      <td>0.357144</td>\n",
       "      <td>0.355980</td>\n",
       "      <td>0.355242</td>\n",
       "      <td>0.354722</td>\n",
       "      <td>0.354217</td>\n",
       "      <td>0.353825</td>\n",
       "      <td>0.353376</td>\n",
       "      <td>0.352798</td>\n",
       "    </tr>\n",
       "    <tr>\n",
       "      <th>2</th>\n",
       "      <td>1.619721</td>\n",
       "      <td>1.614226</td>\n",
       "      <td>1.615612</td>\n",
       "      <td>1.620649</td>\n",
       "      <td>1.626406</td>\n",
       "      <td>1.631747</td>\n",
       "      <td>1.636411</td>\n",
       "      <td>1.639527</td>\n",
       "      <td>1.642449</td>\n",
       "      <td>1.646890</td>\n",
       "      <td>...</td>\n",
       "      <td>0.372522</td>\n",
       "      <td>0.372338</td>\n",
       "      <td>0.371425</td>\n",
       "      <td>0.370337</td>\n",
       "      <td>0.369679</td>\n",
       "      <td>0.369245</td>\n",
       "      <td>0.368808</td>\n",
       "      <td>0.368469</td>\n",
       "      <td>0.368084</td>\n",
       "      <td>0.367563</td>\n",
       "    </tr>\n",
       "    <tr>\n",
       "      <th>3</th>\n",
       "      <td>1.570129</td>\n",
       "      <td>1.567954</td>\n",
       "      <td>1.573055</td>\n",
       "      <td>1.580834</td>\n",
       "      <td>1.586880</td>\n",
       "      <td>1.590397</td>\n",
       "      <td>1.595117</td>\n",
       "      <td>1.600492</td>\n",
       "      <td>1.603847</td>\n",
       "      <td>1.606447</td>\n",
       "      <td>...</td>\n",
       "      <td>0.357992</td>\n",
       "      <td>0.357734</td>\n",
       "      <td>0.356713</td>\n",
       "      <td>0.355480</td>\n",
       "      <td>0.354681</td>\n",
       "      <td>0.354137</td>\n",
       "      <td>0.353619</td>\n",
       "      <td>0.353217</td>\n",
       "      <td>0.352756</td>\n",
       "      <td>0.352158</td>\n",
       "    </tr>\n",
       "    <tr>\n",
       "      <th>4</th>\n",
       "      <td>1.484832</td>\n",
       "      <td>1.484367</td>\n",
       "      <td>1.484977</td>\n",
       "      <td>1.486258</td>\n",
       "      <td>1.488400</td>\n",
       "      <td>1.492040</td>\n",
       "      <td>1.495075</td>\n",
       "      <td>1.496595</td>\n",
       "      <td>1.498354</td>\n",
       "      <td>1.501437</td>\n",
       "      <td>...</td>\n",
       "      <td>0.316249</td>\n",
       "      <td>0.316089</td>\n",
       "      <td>0.315098</td>\n",
       "      <td>0.313910</td>\n",
       "      <td>0.313210</td>\n",
       "      <td>0.312758</td>\n",
       "      <td>0.312312</td>\n",
       "      <td>0.311971</td>\n",
       "      <td>0.311568</td>\n",
       "      <td>0.311044</td>\n",
       "    </tr>\n",
       "    <tr>\n",
       "      <th>...</th>\n",
       "      <td>...</td>\n",
       "      <td>...</td>\n",
       "      <td>...</td>\n",
       "      <td>...</td>\n",
       "      <td>...</td>\n",
       "      <td>...</td>\n",
       "      <td>...</td>\n",
       "      <td>...</td>\n",
       "      <td>...</td>\n",
       "      <td>...</td>\n",
       "      <td>...</td>\n",
       "      <td>...</td>\n",
       "      <td>...</td>\n",
       "      <td>...</td>\n",
       "      <td>...</td>\n",
       "      <td>...</td>\n",
       "      <td>...</td>\n",
       "      <td>...</td>\n",
       "      <td>...</td>\n",
       "      <td>...</td>\n",
       "      <td>...</td>\n",
       "    </tr>\n",
       "    <tr>\n",
       "      <th>135646</th>\n",
       "      <td>NaN</td>\n",
       "      <td>NaN</td>\n",
       "      <td>NaN</td>\n",
       "      <td>NaN</td>\n",
       "      <td>NaN</td>\n",
       "      <td>NaN</td>\n",
       "      <td>NaN</td>\n",
       "      <td>NaN</td>\n",
       "      <td>NaN</td>\n",
       "      <td>NaN</td>\n",
       "      <td>...</td>\n",
       "      <td>NaN</td>\n",
       "      <td>NaN</td>\n",
       "      <td>NaN</td>\n",
       "      <td>NaN</td>\n",
       "      <td>NaN</td>\n",
       "      <td>NaN</td>\n",
       "      <td>NaN</td>\n",
       "      <td>NaN</td>\n",
       "      <td>NaN</td>\n",
       "      <td>NaN</td>\n",
       "    </tr>\n",
       "    <tr>\n",
       "      <th>135647</th>\n",
       "      <td>NaN</td>\n",
       "      <td>NaN</td>\n",
       "      <td>NaN</td>\n",
       "      <td>NaN</td>\n",
       "      <td>NaN</td>\n",
       "      <td>NaN</td>\n",
       "      <td>NaN</td>\n",
       "      <td>NaN</td>\n",
       "      <td>NaN</td>\n",
       "      <td>NaN</td>\n",
       "      <td>...</td>\n",
       "      <td>NaN</td>\n",
       "      <td>NaN</td>\n",
       "      <td>NaN</td>\n",
       "      <td>NaN</td>\n",
       "      <td>NaN</td>\n",
       "      <td>NaN</td>\n",
       "      <td>NaN</td>\n",
       "      <td>NaN</td>\n",
       "      <td>NaN</td>\n",
       "      <td>NaN</td>\n",
       "    </tr>\n",
       "    <tr>\n",
       "      <th>135648</th>\n",
       "      <td>NaN</td>\n",
       "      <td>NaN</td>\n",
       "      <td>NaN</td>\n",
       "      <td>NaN</td>\n",
       "      <td>NaN</td>\n",
       "      <td>NaN</td>\n",
       "      <td>NaN</td>\n",
       "      <td>NaN</td>\n",
       "      <td>NaN</td>\n",
       "      <td>NaN</td>\n",
       "      <td>...</td>\n",
       "      <td>NaN</td>\n",
       "      <td>NaN</td>\n",
       "      <td>NaN</td>\n",
       "      <td>NaN</td>\n",
       "      <td>NaN</td>\n",
       "      <td>NaN</td>\n",
       "      <td>NaN</td>\n",
       "      <td>NaN</td>\n",
       "      <td>NaN</td>\n",
       "      <td>NaN</td>\n",
       "    </tr>\n",
       "    <tr>\n",
       "      <th>135649</th>\n",
       "      <td>NaN</td>\n",
       "      <td>NaN</td>\n",
       "      <td>NaN</td>\n",
       "      <td>NaN</td>\n",
       "      <td>NaN</td>\n",
       "      <td>NaN</td>\n",
       "      <td>NaN</td>\n",
       "      <td>NaN</td>\n",
       "      <td>NaN</td>\n",
       "      <td>NaN</td>\n",
       "      <td>...</td>\n",
       "      <td>NaN</td>\n",
       "      <td>NaN</td>\n",
       "      <td>NaN</td>\n",
       "      <td>NaN</td>\n",
       "      <td>NaN</td>\n",
       "      <td>NaN</td>\n",
       "      <td>NaN</td>\n",
       "      <td>NaN</td>\n",
       "      <td>NaN</td>\n",
       "      <td>NaN</td>\n",
       "    </tr>\n",
       "    <tr>\n",
       "      <th>135650</th>\n",
       "      <td>NaN</td>\n",
       "      <td>NaN</td>\n",
       "      <td>NaN</td>\n",
       "      <td>NaN</td>\n",
       "      <td>NaN</td>\n",
       "      <td>NaN</td>\n",
       "      <td>NaN</td>\n",
       "      <td>NaN</td>\n",
       "      <td>NaN</td>\n",
       "      <td>NaN</td>\n",
       "      <td>...</td>\n",
       "      <td>NaN</td>\n",
       "      <td>NaN</td>\n",
       "      <td>NaN</td>\n",
       "      <td>NaN</td>\n",
       "      <td>NaN</td>\n",
       "      <td>NaN</td>\n",
       "      <td>NaN</td>\n",
       "      <td>NaN</td>\n",
       "      <td>NaN</td>\n",
       "      <td>NaN</td>\n",
       "    </tr>\n",
       "  </tbody>\n",
       "</table>\n",
       "<p>135651 rows × 1701 columns</p>\n",
       "</div>"
      ],
      "text/plain": [
       "        scan_mir.600_abs  scan_mir.602_abs  scan_mir.604_abs  \\\n",
       "0               1.527853          1.531908          1.532084   \n",
       "1               1.538449          1.543622          1.545751   \n",
       "2               1.619721          1.614226          1.615612   \n",
       "3               1.570129          1.567954          1.573055   \n",
       "4               1.484832          1.484367          1.484977   \n",
       "...                  ...               ...               ...   \n",
       "135646               NaN               NaN               NaN   \n",
       "135647               NaN               NaN               NaN   \n",
       "135648               NaN               NaN               NaN   \n",
       "135649               NaN               NaN               NaN   \n",
       "135650               NaN               NaN               NaN   \n",
       "\n",
       "        scan_mir.606_abs  scan_mir.608_abs  scan_mir.610_abs  \\\n",
       "0               1.530892          1.530645          1.531506   \n",
       "1               1.546997          1.549450          1.553714   \n",
       "2               1.620649          1.626406          1.631747   \n",
       "3               1.580834          1.586880          1.590397   \n",
       "4               1.486258          1.488400          1.492040   \n",
       "...                  ...               ...               ...   \n",
       "135646               NaN               NaN               NaN   \n",
       "135647               NaN               NaN               NaN   \n",
       "135648               NaN               NaN               NaN   \n",
       "135649               NaN               NaN               NaN   \n",
       "135650               NaN               NaN               NaN   \n",
       "\n",
       "        scan_mir.612_abs  scan_mir.614_abs  scan_mir.616_abs  \\\n",
       "0               1.531582          1.531413          1.532904   \n",
       "1               1.557981          1.561652          1.566082   \n",
       "2               1.636411          1.639527          1.642449   \n",
       "3               1.595117          1.600492          1.603847   \n",
       "4               1.495075          1.496595          1.498354   \n",
       "...                  ...               ...               ...   \n",
       "135646               NaN               NaN               NaN   \n",
       "135647               NaN               NaN               NaN   \n",
       "135648               NaN               NaN               NaN   \n",
       "135649               NaN               NaN               NaN   \n",
       "135650               NaN               NaN               NaN   \n",
       "\n",
       "        scan_mir.618_abs  ...  scan_mir.3982_abs  scan_mir.3984_abs  \\\n",
       "0               1.535459  ...           0.356776           0.356642   \n",
       "1               1.571555  ...           0.358399           0.358142   \n",
       "2               1.646890  ...           0.372522           0.372338   \n",
       "3               1.606447  ...           0.357992           0.357734   \n",
       "4               1.501437  ...           0.316249           0.316089   \n",
       "...                  ...  ...                ...                ...   \n",
       "135646               NaN  ...                NaN                NaN   \n",
       "135647               NaN  ...                NaN                NaN   \n",
       "135648               NaN  ...                NaN                NaN   \n",
       "135649               NaN  ...                NaN                NaN   \n",
       "135650               NaN  ...                NaN                NaN   \n",
       "\n",
       "        scan_mir.3986_abs  scan_mir.3988_abs  scan_mir.3990_abs  \\\n",
       "0                0.355784           0.354743           0.354104   \n",
       "1                0.357144           0.355980           0.355242   \n",
       "2                0.371425           0.370337           0.369679   \n",
       "3                0.356713           0.355480           0.354681   \n",
       "4                0.315098           0.313910           0.313210   \n",
       "...                   ...                ...                ...   \n",
       "135646                NaN                NaN                NaN   \n",
       "135647                NaN                NaN                NaN   \n",
       "135648                NaN                NaN                NaN   \n",
       "135649                NaN                NaN                NaN   \n",
       "135650                NaN                NaN                NaN   \n",
       "\n",
       "        scan_mir.3992_abs  scan_mir.3994_abs  scan_mir.3996_abs  \\\n",
       "0                0.353663           0.353237           0.352923   \n",
       "1                0.354722           0.354217           0.353825   \n",
       "2                0.369245           0.368808           0.368469   \n",
       "3                0.354137           0.353619           0.353217   \n",
       "4                0.312758           0.312312           0.311971   \n",
       "...                   ...                ...                ...   \n",
       "135646                NaN                NaN                NaN   \n",
       "135647                NaN                NaN                NaN   \n",
       "135648                NaN                NaN                NaN   \n",
       "135649                NaN                NaN                NaN   \n",
       "135650                NaN                NaN                NaN   \n",
       "\n",
       "        scan_mir.3998_abs  scan_mir.4000_abs  \n",
       "0                0.352548           0.352053  \n",
       "1                0.353376           0.352798  \n",
       "2                0.368084           0.367563  \n",
       "3                0.352756           0.352158  \n",
       "4                0.311568           0.311044  \n",
       "...                   ...                ...  \n",
       "135646                NaN                NaN  \n",
       "135647                NaN                NaN  \n",
       "135648                NaN                NaN  \n",
       "135649                NaN                NaN  \n",
       "135650                NaN                NaN  \n",
       "\n",
       "[135651 rows x 1701 columns]"
      ]
     },
     "execution_count": null,
     "metadata": {},
     "output_type": "execute_result"
    }
   ],
   "source": [
    "#| eval: false\n",
    "ossl.df[ossl.mir_cols]"
   ]
  },
  {
   "cell_type": "code",
   "execution_count": null,
   "metadata": {},
   "outputs": [
    {
     "name": "stdout",
     "output_type": "stream",
     "text": [
      "85684 samples with all non-null values in mir spectra out of the total 135651\n"
     ]
    }
   ],
   "source": [
    "#| eval: false\n",
    "mask = ossl.df[ossl.mir_cols].notna().all(axis=1)\n",
    "print(mask.sum(), 'samples with all non-null values in mir spectra out of the total', len(mask))"
   ]
  },
  {
   "cell_type": "code",
   "execution_count": null,
   "metadata": {},
   "outputs": [],
   "source": [
    "#| export\n",
    "@patch\n",
    "def _extract_wavenumbers(self:OSSLData, \n",
    "                         cols: List[str] # column names\n",
    "                         ):\n",
    "    \"Extract wavenumbers from spectral column names\"\n",
    "    ws = np.array([int(re.search(r'\\.(\\d+)_', c).group(1)) for c in cols])\n",
    "    if 'visnir' in cols[0].lower(): \n",
    "        return np.array([int(1e7 / w) for w in ws])\n",
    "    return ws"
   ]
  },
  {
   "cell_type": "code",
   "execution_count": null,
   "metadata": {},
   "outputs": [
    {
     "data": {
      "text/markdown": [
       "---\n",
       "\n",
       "[source](https://github.com/franckalbinet/soilspecdata/blob/main/soilspecdata/datasets/ossl.py#L106){target=\"_blank\" style=\"float:right; font-size:smaller\"}\n",
       "\n",
       "### OSSLData._extract_wavenumbers\n",
       "\n",
       ">      OSSLData._extract_wavenumbers (cols:List[str])\n",
       "\n",
       "*Extract wavenumbers from spectral column names*\n",
       "\n",
       "|    | **Type** | **Details** |\n",
       "| -- | -------- | ----------- |\n",
       "| cols | List | column names |"
      ],
      "text/plain": [
       "---\n",
       "\n",
       "[source](https://github.com/franckalbinet/soilspecdata/blob/main/soilspecdata/datasets/ossl.py#L106){target=\"_blank\" style=\"float:right; font-size:smaller\"}\n",
       "\n",
       "### OSSLData._extract_wavenumbers\n",
       "\n",
       ">      OSSLData._extract_wavenumbers (cols:List[str])\n",
       "\n",
       "*Extract wavenumbers from spectral column names*\n",
       "\n",
       "|    | **Type** | **Details** |\n",
       "| -- | -------- | ----------- |\n",
       "| cols | List | column names |"
      ]
     },
     "execution_count": null,
     "metadata": {},
     "output_type": "execute_result"
    }
   ],
   "source": [
    "show_doc(OSSLData._extract_wavenumbers)"
   ]
  },
  {
   "cell_type": "markdown",
   "metadata": {},
   "source": [
    "For instance, to retrieve the wavenumbers from the MIR columns:"
   ]
  },
  {
   "cell_type": "code",
   "execution_count": null,
   "metadata": {},
   "outputs": [
    {
     "data": {
      "text/plain": [
       "array([ 600,  602,  604, ..., 3996, 3998, 4000], shape=(1701,))"
      ]
     },
     "execution_count": null,
     "metadata": {},
     "output_type": "execute_result"
    }
   ],
   "source": [
    "#| eval: false\n",
    "ossl._extract_wavenumbers(ossl.mir_cols)"
   ]
  },
  {
   "cell_type": "code",
   "execution_count": null,
   "metadata": {},
   "outputs": [],
   "source": [
    "#| export\n",
    "@patch\n",
    "def _extract_measurement_type(self:OSSLData, \n",
    "                              cols: List[str] # Spectral column names\n",
    "                              ) -> str: # `abs` (Absorbance) or `ref` (Reflectance)\n",
    "    \"Extract measurement type from column names\"\n",
    "    types = set(re.search(r'_(\\w+)$', c).group(1) for c in cols)\n",
    "    assert len(types) == 1, f\"Mixed measurement types found: {types}\"\n",
    "    return types.pop()"
   ]
  },
  {
   "cell_type": "code",
   "execution_count": null,
   "metadata": {},
   "outputs": [
    {
     "data": {
      "text/markdown": [
       "---\n",
       "\n",
       "[source](https://github.com/franckalbinet/soilspecdata/blob/main/soilspecdata/datasets/ossl.py#L117){target=\"_blank\" style=\"float:right; font-size:smaller\"}\n",
       "\n",
       "### OSSLData._extract_measurement_type\n",
       "\n",
       ">      OSSLData._extract_measurement_type (cols:List[str])\n",
       "\n",
       "*Extract measurement type from column names*\n",
       "\n",
       "|    | **Type** | **Details** |\n",
       "| -- | -------- | ----------- |\n",
       "| cols | List | Spectral column names |\n",
       "| **Returns** | **str** | **`abs` (Absorbance) or `ref` (Reflectance)** |"
      ],
      "text/plain": [
       "---\n",
       "\n",
       "[source](https://github.com/franckalbinet/soilspecdata/blob/main/soilspecdata/datasets/ossl.py#L117){target=\"_blank\" style=\"float:right; font-size:smaller\"}\n",
       "\n",
       "### OSSLData._extract_measurement_type\n",
       "\n",
       ">      OSSLData._extract_measurement_type (cols:List[str])\n",
       "\n",
       "*Extract measurement type from column names*\n",
       "\n",
       "|    | **Type** | **Details** |\n",
       "| -- | -------- | ----------- |\n",
       "| cols | List | Spectral column names |\n",
       "| **Returns** | **str** | **`abs` (Absorbance) or `ref` (Reflectance)** |"
      ]
     },
     "execution_count": null,
     "metadata": {},
     "output_type": "execute_result"
    }
   ],
   "source": [
    "show_doc(OSSLData._extract_measurement_type)"
   ]
  },
  {
   "cell_type": "markdown",
   "metadata": {},
   "source": [
    "For instance, to retrieve the measurement type from the MIR or VISNIR columns:"
   ]
  },
  {
   "cell_type": "code",
   "execution_count": null,
   "metadata": {},
   "outputs": [
    {
     "data": {
      "text/plain": [
       "('ref', 'abs')"
      ]
     },
     "execution_count": null,
     "metadata": {},
     "output_type": "execute_result"
    }
   ],
   "source": [
    "#| eval: false\n",
    "ossl._extract_measurement_type(ossl.visnir_cols), ossl._extract_measurement_type(ossl.mir_cols)"
   ]
  },
  {
   "cell_type": "code",
   "execution_count": null,
   "metadata": {},
   "outputs": [],
   "source": [
    "#| export\n",
    "@patch\n",
    "def _filter_wavelength_range(self:OSSLData, \n",
    "                             wavenumbers: np.ndarray, # Wavenumbers\n",
    "                             spectra: np.ndarray, # Spectra\n",
    "                             cols: List[str], # Column names\n",
    "                             wmin: Optional[int]=None, # Min wavenumber\n",
    "                             wmax: Optional[int]=None # Max wavenumber\n",
    "                             ) -> Tuple[np.ndarray, np.ndarray, List[str]]: # Filtered wavenumbers, spectra, columns\n",
    "    \"Filter spectra based on wavenumber range\"\n",
    "    if wmin is not None:\n",
    "        assert wmin >= wavenumbers.min(), f\"wmin ({wmin}) must be >= minimum wavenumber ({wavenumbers.min()})\"\n",
    "    if wmax is not None:\n",
    "        assert wmax <= wavenumbers.max(), f\"wmax ({wmax}) must be <= maximum wavenumber ({wavenumbers.max()})\"\n",
    "    if wmin is not None and wmax is not None:\n",
    "        assert wmin < wmax, f\"wmin ({wmin}) must be < wmax ({wmax})\"\n",
    "        \n",
    "    mask = np.ones(len(wavenumbers), dtype=bool)\n",
    "    if wmin is not None:\n",
    "        mask &= wavenumbers >= wmin\n",
    "    if wmax is not None:\n",
    "        mask &= wavenumbers <= wmax\n",
    "    return wavenumbers[mask], spectra[:, mask], [cols[i] for i in np.where(mask)[0]]"
   ]
  },
  {
   "cell_type": "code",
   "execution_count": null,
   "metadata": {},
   "outputs": [
    {
     "data": {
      "text/markdown": [
       "---\n",
       "\n",
       "[source](https://github.com/franckalbinet/soilspecdata/blob/main/soilspecdata/datasets/ossl.py#L127){target=\"_blank\" style=\"float:right; font-size:smaller\"}\n",
       "\n",
       "### OSSLData._filter_wavelength_range\n",
       "\n",
       ">      OSSLData._filter_wavelength_range (wavenumbers:numpy.ndarray,\n",
       ">                                         spectra:numpy.ndarray, cols:List[str],\n",
       ">                                         wmin:Optional[int]=None,\n",
       ">                                         wmax:Optional[int]=None)\n",
       "\n",
       "*Filter spectra based on wavenumber range*\n",
       "\n",
       "|    | **Type** | **Default** | **Details** |\n",
       "| -- | -------- | ----------- | ----------- |\n",
       "| wavenumbers | ndarray |  | Wavenumbers |\n",
       "| spectra | ndarray |  | Spectra |\n",
       "| cols | List |  | Column names |\n",
       "| wmin | Optional | None | Min wavenumber |\n",
       "| wmax | Optional | None | Max wavenumber |\n",
       "| **Returns** | **Tuple** |  | **Filtered wavenumbers, spectra, columns** |"
      ],
      "text/plain": [
       "---\n",
       "\n",
       "[source](https://github.com/franckalbinet/soilspecdata/blob/main/soilspecdata/datasets/ossl.py#L127){target=\"_blank\" style=\"float:right; font-size:smaller\"}\n",
       "\n",
       "### OSSLData._filter_wavelength_range\n",
       "\n",
       ">      OSSLData._filter_wavelength_range (wavenumbers:numpy.ndarray,\n",
       ">                                         spectra:numpy.ndarray, cols:List[str],\n",
       ">                                         wmin:Optional[int]=None,\n",
       ">                                         wmax:Optional[int]=None)\n",
       "\n",
       "*Filter spectra based on wavenumber range*\n",
       "\n",
       "|    | **Type** | **Default** | **Details** |\n",
       "| -- | -------- | ----------- | ----------- |\n",
       "| wavenumbers | ndarray |  | Wavenumbers |\n",
       "| spectra | ndarray |  | Spectra |\n",
       "| cols | List |  | Column names |\n",
       "| wmin | Optional | None | Min wavenumber |\n",
       "| wmax | Optional | None | Max wavenumber |\n",
       "| **Returns** | **Tuple** |  | **Filtered wavenumbers, spectra, columns** |"
      ]
     },
     "execution_count": null,
     "metadata": {},
     "output_type": "execute_result"
    }
   ],
   "source": [
    "show_doc(OSSLData._filter_wavelength_range)"
   ]
  },
  {
   "cell_type": "code",
   "execution_count": null,
   "metadata": {},
   "outputs": [
    {
     "name": "stdout",
     "output_type": "stream",
     "text": [
      "Original wavenumbers: 4000 - 28571\n",
      "Filtered wavenumbers: 4000 - 25000\n",
      "Spectra shape: (135651, 1051)\n",
      "Filtered columns. From: scan_visnir.400_ref to: scan_visnir.2500_ref\n"
     ]
    }
   ],
   "source": [
    "#| eval: false\n",
    "wavenumbers, spectra, cols = ossl._filter_wavelength_range(\n",
    "    wavenumbers=ossl._extract_wavenumbers(ossl.visnir_cols), \n",
    "    spectra=ossl.df[ossl.visnir_cols].values, \n",
    "    cols=ossl.visnir_cols, \n",
    "    wmin=4000, wmax=25000\n",
    ")\n",
    "\n",
    "print(f'Original wavenumbers: {ossl._extract_wavenumbers(ossl.visnir_cols).min()} - {ossl._extract_wavenumbers(ossl.visnir_cols).max()}')\n",
    "print(f'Filtered wavenumbers: {wavenumbers.min()} - {wavenumbers.max()}')\n",
    "print(f'Spectra shape: {spectra.shape}')\n",
    "print(f'Filtered columns. From: {cols[0]} to: {cols[-1]}')"
   ]
  },
  {
   "cell_type": "markdown",
   "metadata": {},
   "source": [
    "**IMPORTANT**: Not that by default, both VISNIR and MIR spectra are converted to wavenumbers. "
   ]
  },
  {
   "cell_type": "code",
   "execution_count": null,
   "metadata": {},
   "outputs": [],
   "source": [
    "#| export\n",
    "@patch \n",
    "def get_visnir(self:OSSLData, \n",
    "               wmin: Optional[int]=4000, # Min wavenumber\n",
    "               wmax: Optional[int]=25000, # Max wavenumber\n",
    "               ) -> SpectraData: # VISNIR data\n",
    "    \"Get VISNIR spectra within specified wavenumber range\"\n",
    "    \n",
    "    wavenumbers = self._extract_wavenumbers(self.visnir_cols)\n",
    "    spectra = self.df[self.visnir_cols].values\n",
    "    wavenumbers, _, filtered_cols = self._filter_wavelength_range(\n",
    "        wavenumbers, spectra, self.visnir_cols, wmin, wmax\n",
    "    )\n",
    "    \n",
    "    valid_mask = self._get_valid_spectra_mask(filtered_cols)\n",
    "    df_subset = self.df[valid_mask]\n",
    "    sample_ids = self.sample_ids[valid_mask]\n",
    "        \n",
    "    spectra = df_subset[filtered_cols].values\n",
    "    measurement_type = self._extract_measurement_type(filtered_cols)\n",
    "    return SpectraData(\n",
    "        wavenumbers[::-1], \n",
    "        spectra[:, ::-1], \n",
    "        measurement_type, \n",
    "        sample_ids)"
   ]
  },
  {
   "cell_type": "markdown",
   "metadata": {},
   "source": [
    "For instance, to retrieve the VISNIR spectra between 8000 and 25000 wavenumbers:"
   ]
  },
  {
   "cell_type": "code",
   "execution_count": null,
   "metadata": {},
   "outputs": [
    {
     "data": {
      "text/plain": [
       "(64644, 426)"
      ]
     },
     "execution_count": null,
     "metadata": {},
     "output_type": "execute_result"
    }
   ],
   "source": [
    "#| eval: false\n",
    "visnir_data = ossl.get_visnir(wmin=8000, wmax=25000)\n",
    "visnir_data.spectra.shape"
   ]
  },
  {
   "cell_type": "code",
   "execution_count": null,
   "metadata": {},
   "outputs": [],
   "source": [
    "#| export\n",
    "@patch \n",
    "def get_mir(self:OSSLData, \n",
    "            wmin: Optional[int]=600, # Min wavenumber\n",
    "            wmax: Optional[int]=4000, # Max wavenumber\n",
    "            ) -> SpectraData: # MIR data\n",
    "    \"Get MIR spectra within specified wavenumber range\"\n",
    "    wavenumbers = self._extract_wavenumbers(self.mir_cols)\n",
    "    spectra = self.df[self.mir_cols].values\n",
    "    wavenumbers, _, filtered_cols = self._filter_wavelength_range(\n",
    "        wavenumbers, spectra, self.mir_cols, wmin, wmax\n",
    "    )\n",
    "    \n",
    "    valid_mask = self._get_valid_spectra_mask(filtered_cols)\n",
    "    df_subset = self.df[valid_mask]\n",
    "    sample_ids = self.sample_ids[valid_mask]\n",
    "        \n",
    "    spectra = df_subset[filtered_cols].values\n",
    "    measurement_type = self._extract_measurement_type(filtered_cols)\n",
    "    \n",
    "    return SpectraData(wavenumbers, spectra, measurement_type, sample_ids)"
   ]
  },
  {
   "cell_type": "markdown",
   "metadata": {},
   "source": [
    "For instance, to retrieve the MIR spectra between 600 and 4000 wavenumbers (default range):"
   ]
  },
  {
   "cell_type": "code",
   "execution_count": null,
   "metadata": {},
   "outputs": [
    {
     "data": {
      "text/plain": [
       "((85684, 1701), np.int64(600), np.int64(4000))"
      ]
     },
     "execution_count": null,
     "metadata": {},
     "output_type": "execute_result"
    }
   ],
   "source": [
    "#| eval: false\n",
    "mir_data = ossl.get_mir()\n",
    "mir_data.spectra.shape, mir_data.wavenumbers.min(), mir_data.wavenumbers.max()"
   ]
  },
  {
   "cell_type": "code",
   "execution_count": null,
   "metadata": {},
   "outputs": [],
   "source": [
    "#| export\n",
    "@patch\n",
    "def get_properties(self:OSSLData, \n",
    "                   properties=None, # Properties\n",
    "                   require_complete: bool=False # if True, only return samples with no null values\n",
    "                   ) -> pd.DataFrame: # Selected properties data\n",
    "    \"Get properties data with sample IDs\"\n",
    "    if properties is None:\n",
    "        properties = self.properties_cols\n",
    "    elif isinstance(properties, str):\n",
    "        properties = [properties]\n",
    "            \n",
    "    df_subset = pd.DataFrame({\n",
    "        'id': self.sample_ids,\n",
    "        **{col: self.df[col] for col in properties}\n",
    "    }).set_index('id')\n",
    "        \n",
    "    if require_complete:\n",
    "        return df_subset.dropna()\n",
    "    return df_subset"
   ]
  },
  {
   "cell_type": "markdown",
   "metadata": {},
   "source": [
    "Get only complete MIR spectra:"
   ]
  },
  {
   "cell_type": "code",
   "execution_count": null,
   "metadata": {},
   "outputs": [],
   "source": [
    "#| eval: false\n",
    "mir_data = ossl.get_mir()"
   ]
  },
  {
   "cell_type": "markdown",
   "metadata": {},
   "source": [
    "Get properties needed as ML targets (must be complete):"
   ]
  },
  {
   "cell_type": "code",
   "execution_count": null,
   "metadata": {},
   "outputs": [
    {
     "data": {
      "text/plain": [
       "((57064, 1),\n",
       "         cec_usda.a723_cmolc.kg\n",
       " id                            \n",
       " S40857                6.633217\n",
       " S40858                3.822628\n",
       " S40859                3.427324\n",
       " S40860                1.906545\n",
       " S40861               13.403203)"
      ]
     },
     "execution_count": null,
     "metadata": {},
     "output_type": "execute_result"
    }
   ],
   "source": [
    "#| eval: false\n",
    "targets = ossl.get_properties(['cec_usda.a723_cmolc.kg'], require_complete=True)\n",
    "targets.shape, targets.head()"
   ]
  },
  {
   "cell_type": "markdown",
   "metadata": {},
   "source": [
    "Get optional metadata (can have `NaN` values):"
   ]
  },
  {
   "cell_type": "code",
   "execution_count": null,
   "metadata": {},
   "outputs": [
    {
     "data": {
      "text/plain": [
       "((135651, 2),\n",
       "            longitude.point_wgs84_dd  latitude.point_wgs84_dd\n",
       " id                                                          \n",
       " icr072246                 15.687492                -7.377750\n",
       " icr072247                 15.687492                -7.377750\n",
       " icr072266                 15.687817                -7.351243\n",
       " icr072267                 15.687817                -7.351243\n",
       " icr072286                 15.687965                -7.331673)"
      ]
     },
     "execution_count": null,
     "metadata": {},
     "output_type": "execute_result"
    }
   ],
   "source": [
    "#| eval: false\n",
    "metadata = ossl.get_properties(['longitude.point_wgs84_dd', 'latitude.point_wgs84_dd'], require_complete=False)\n",
    "metadata.shape, metadata.head()"
   ]
  },
  {
   "cell_type": "code",
   "execution_count": null,
   "metadata": {},
   "outputs": [],
   "source": [
    "#| export\n",
    "@patch\n",
    "def get_aligned_data(self:OSSLData, \n",
    "                    spectra_data: SpectraData, # Spectra data\n",
    "                    target_cols: Union[str, List[str]] # Target columns\n",
    "                    ) -> Tuple[np.ndarray, np.ndarray, np.ndarray]: # Aligned spectra, targets, sample IDs\n",
    "    \"Get aligned spectra and target data for ML, along with their sample IDs\"\n",
    "    targets = self.get_properties(target_cols, require_complete=True)\n",
    "    mir_df = pd.DataFrame(spectra_data.spectra, columns=spectra_data.wavenumbers, index=spectra_data.sample_ids)\n",
    "    common_df = mir_df.join(targets, how='inner')\n",
    "    features = common_df.iloc[:, :len(spectra_data.wavenumbers)].values\n",
    "    targets = common_df.iloc[:, len(spectra_data.wavenumbers):].values\n",
    "    sample_ids = common_df.index.values\n",
    "    \n",
    "    return features, targets, sample_ids"
   ]
  },
  {
   "cell_type": "markdown",
   "metadata": {},
   "source": [
    "For instance, to retrieve the MIR spectra and the corresponding CEC values in an amenable form for a Machine/Deep Learning pipeline:"
   ]
  },
  {
   "cell_type": "code",
   "execution_count": null,
   "metadata": {},
   "outputs": [
    {
     "data": {
      "text/plain": [
       "((3, 3), (3, 1), (3,))"
      ]
     },
     "execution_count": null,
     "metadata": {},
     "output_type": "execute_result"
    }
   ],
   "source": [
    "#| eval: false\n",
    "X, y, ids = ossl.get_aligned_data(\n",
    "    spectra_data=mir_data,\n",
    "    target_cols='cec_usda.a723_cmolc.kg'\n",
    ")\n",
    "\n",
    "X.shape, y.shape, ids.shape"
   ]
  },
  {
   "cell_type": "markdown",
   "metadata": {},
   "source": [
    "Later, if you need metadata for these samples:"
   ]
  },
  {
   "cell_type": "code",
   "execution_count": null,
   "metadata": {},
   "outputs": [
    {
     "data": {
      "text/html": [
       "<div>\n",
       "<style scoped>\n",
       "    .dataframe tbody tr th:only-of-type {\n",
       "        vertical-align: middle;\n",
       "    }\n",
       "\n",
       "    .dataframe tbody tr th {\n",
       "        vertical-align: top;\n",
       "    }\n",
       "\n",
       "    .dataframe thead th {\n",
       "        text-align: right;\n",
       "    }\n",
       "</style>\n",
       "<table border=\"1\" class=\"dataframe\">\n",
       "  <thead>\n",
       "    <tr style=\"text-align: right;\">\n",
       "      <th></th>\n",
       "      <th>longitude.point_wgs84_dd</th>\n",
       "      <th>latitude.point_wgs84_dd</th>\n",
       "    </tr>\n",
       "    <tr>\n",
       "      <th>id</th>\n",
       "      <th></th>\n",
       "      <th></th>\n",
       "    </tr>\n",
       "  </thead>\n",
       "  <tbody>\n",
       "    <tr>\n",
       "      <th>173693</th>\n",
       "      <td>NaN</td>\n",
       "      <td>NaN</td>\n",
       "    </tr>\n",
       "    <tr>\n",
       "      <th>172161</th>\n",
       "      <td>-120.354407</td>\n",
       "      <td>42.207350</td>\n",
       "    </tr>\n",
       "    <tr>\n",
       "      <th>181527</th>\n",
       "      <td>-107.274835</td>\n",
       "      <td>47.434481</td>\n",
       "    </tr>\n",
       "    <tr>\n",
       "      <th>176683</th>\n",
       "      <td>NaN</td>\n",
       "      <td>NaN</td>\n",
       "    </tr>\n",
       "    <tr>\n",
       "      <th>212508</th>\n",
       "      <td>-103.316306</td>\n",
       "      <td>46.488522</td>\n",
       "    </tr>\n",
       "  </tbody>\n",
       "</table>\n",
       "</div>"
      ],
      "text/plain": [
       "        longitude.point_wgs84_dd  latitude.point_wgs84_dd\n",
       "id                                                       \n",
       "173693                       NaN                      NaN\n",
       "172161               -120.354407                42.207350\n",
       "181527               -107.274835                47.434481\n",
       "176683                       NaN                      NaN\n",
       "212508               -103.316306                46.488522"
      ]
     },
     "execution_count": null,
     "metadata": {},
     "output_type": "execute_result"
    }
   ],
   "source": [
    "#| eval: false\n",
    "metadata = ossl.get_properties(['longitude.point_wgs84_dd', 'latitude.point_wgs84_dd']).loc[ids]\n",
    "metadata.head()"
   ]
  }
 ],
 "metadata": {
  "kernelspec": {
   "display_name": "python3",
   "language": "python",
   "name": "python3"
  }
 },
 "nbformat": 4,
 "nbformat_minor": 4
}
