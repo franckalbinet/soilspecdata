{
 "cells": [
  {
   "cell_type": "markdown",
   "metadata": {},
   "source": [
    "# OSSL datasets\n",
    "\n",
    "> Data loading for the [OSSL dataset](https://explorer.soilspectroscopy.org/)"
   ]
  },
  {
   "cell_type": "code",
   "execution_count": null,
   "metadata": {},
   "outputs": [],
   "source": [
    "#| default_exp datasets.ossl"
   ]
  },
  {
   "cell_type": "code",
   "execution_count": null,
   "metadata": {},
   "outputs": [],
   "source": [
    "#| exports\n",
    "from fastcore.all import *\n",
    "from pathlib import Path\n",
    "import pandas as pd\n",
    "from urllib.request import urlretrieve\n",
    "import re\n",
    "import numpy as np\n",
    "\n",
    "from soilspecdata.types import *"
   ]
  },
  {
   "cell_type": "code",
   "execution_count": null,
   "metadata": {},
   "outputs": [],
   "source": [
    "#| exports\n",
    "class OSSLData:\n",
    "    def __init__(self, df):\n",
    "        self.df = df\n",
    "        self._parse_columns()        \n",
    "        self.sample_ids = (df['id.layer_local_c'].values if 'id.layer_local_c' \n",
    "                           in df.columns else np.arange(len(df)))"
   ]
  },
  {
   "cell_type": "code",
   "execution_count": null,
   "metadata": {},
   "outputs": [],
   "source": [
    "#| exports\n",
    "@patch\n",
    "def _parse_columns(self:OSSLData):\n",
    "    \"Parse columns into visnir, mir and properties\"\n",
    "    self.visnir_cols = [c for c in self.df.columns if re.match(r'scan_visnir\\.\\d+_ref', c)]\n",
    "    self.mir_cols = [c for c in self.df.columns if re.match(r'scan_mir\\.\\d+_abs', c)]\n",
    "    spectral_cols = set(self.visnir_cols + self.mir_cols)\n",
    "    self.properties_cols = [c for c in self.df.columns if c not in spectral_cols]"
   ]
  },
  {
   "cell_type": "code",
   "execution_count": null,
   "metadata": {},
   "outputs": [],
   "source": [
    "#| exports\n",
    "def get_cache_path(): return Path.home()/'.soilspecdata'"
   ]
  },
  {
   "cell_type": "code",
   "execution_count": null,
   "metadata": {},
   "outputs": [],
   "source": [
    "#| exports\n",
    "def get_ossl(url='https://storage.googleapis.com/soilspec4gg-public/ossl_all_L0_v1.2.csv.gz', # OSSL URL\n",
    "             force_download=False # if True, force download\n",
    "             ):\n",
    "    \"Get OSSL data\"\n",
    "    cache_path = get_cache_path()/'ossl_v1.2.csv.gz'\n",
    "    if not cache_path.exists() or force_download:\n",
    "        cache_path.parent.mkdir(exist_ok=True)\n",
    "        urlretrieve(url, cache_path)\n",
    "        \n",
    "     # Define date columns\n",
    "    date_columns = [\n",
    "        'scan.mir.date.begin_iso.8601_yyyy.mm.dd',\n",
    "        'scan.mir.date.end_iso.8601_yyyy.mm.dd',\n",
    "        'scan.visnir.date.begin_iso.8601_yyyy.mm.dd',\n",
    "        'scan.visnir.date.end_iso.8601_yyyy.mm.dd'\n",
    "    ]\n",
    "    \n",
    "    # Update dtype dictionary without datetime columns\n",
    "    dtype = {\n",
    "        # IDs and codes\n",
    "        'id.layer_local_c': 'string',\n",
    "        'id.location_olc_txt': 'string',\n",
    "        'id.dataset.site_ascii_txt': 'string',\n",
    "        'id.scan_local_c': 'string',\n",
    "        \n",
    "        # Categorical text fields\n",
    "        'layer.texture_usda_txt': 'category',\n",
    "        'pedon.taxa_usda_txt': 'category',\n",
    "        'horizon.designation_usda_txt': 'category',\n",
    "        'location.country_iso.3166_txt': 'category',\n",
    "        'surveyor.address_utf8_txt': 'category',\n",
    "        'efferv_usda.a479_class': 'category',\n",
    "        \n",
    "        # Text fields\n",
    "        'scan.mir.model.name_utf8_txt': 'string',\n",
    "        'scan.mir.model.code_any_txt': 'string',\n",
    "        'scan.mir.method.optics_any_txt': 'string',\n",
    "        'scan.mir.method.preparation_any_txt': 'string',\n",
    "        'scan.mir.license.title_ascii_txt': 'string',\n",
    "        'scan.mir.license.address_idn_url': 'string',\n",
    "        'scan.mir.doi_idf_url': 'string',\n",
    "        'scan.mir.contact.name_utf8_txt': 'string',\n",
    "        'scan.mir.contact.email_ietf_txt': 'string',\n",
    "        'scan.visnir.model.name_utf8_txt': 'string',\n",
    "        'scan.visnir.model.code_any_txt': 'string',\n",
    "        'scan.visnir.method.optics_any_txt': 'string',\n",
    "        'scan.visnir.method.preparation_any_txt': 'string',\n",
    "        'scan.visnir.license.title_ascii_txt': 'string',\n",
    "        'scan.visnir.license.address_idn_url': 'string',\n",
    "        'scan.visnir.doi_idf_url': 'string',\n",
    "        'scan.visnir.contact.name_utf8_txt': 'string',\n",
    "        'scan.visnir.contact.email_ietf_txt': 'string'\n",
    "    }\n",
    "    df = pd.read_csv(cache_path, compression='gzip', dtype=dtype,\n",
    "                     parse_dates=date_columns)\n",
    "    return OSSLData(df)"
   ]
  },
  {
   "cell_type": "code",
   "execution_count": null,
   "metadata": {},
   "outputs": [],
   "source": [
    "#| eval: false\n",
    "ossl = get_ossl(force_download=False)"
   ]
  },
  {
   "cell_type": "code",
   "execution_count": null,
   "metadata": {},
   "outputs": [
    {
     "data": {
      "text/plain": [
       "(['scan_visnir.350_ref', 'scan_visnir.352_ref'],\n",
       " ['scan_mir.600_abs', 'scan_mir.602_abs'],\n",
       " ['dataset.code_ascii_txt', 'id.layer_local_c'])"
      ]
     },
     "execution_count": null,
     "metadata": {},
     "output_type": "execute_result"
    }
   ],
   "source": [
    "#| eval: false\n",
    "ossl.visnir_cols[:2], ossl.mir_cols[:2], ossl.properties_cols[:2]"
   ]
  },
  {
   "cell_type": "code",
   "execution_count": null,
   "metadata": {},
   "outputs": [],
   "source": [
    "#| exports\n",
    "@patch\n",
    "def _get_valid_spectra_mask(self:OSSLData, spectra_cols):\n",
    "    \"\"\"Return mask for samples with all non-null values in spectra\"\"\"\n",
    "    return self.df[spectra_cols].notna().all(axis=1)"
   ]
  },
  {
   "cell_type": "code",
   "execution_count": null,
   "metadata": {},
   "outputs": [
    {
     "data": {
      "text/plain": [
       "np.int64(85684)"
      ]
     },
     "execution_count": null,
     "metadata": {},
     "output_type": "execute_result"
    }
   ],
   "source": [
    "#| eval: false\n",
    "ossl._get_valid_spectra_mask(ossl.mir_cols).sum()"
   ]
  },
  {
   "cell_type": "code",
   "execution_count": null,
   "metadata": {},
   "outputs": [],
   "source": [
    "#| exports\n",
    "@patch\n",
    "def _extract_wavenumbers(self:OSSLData, \n",
    "                        cols: List[str] # column names\n",
    "                        ):\n",
    "    \"Extract wavenumbers from column names\"\n",
    "    return np.array([int(re.search(r'\\.(\\d+)_', c).group(1)) for c in cols])"
   ]
  },
  {
   "cell_type": "code",
   "execution_count": null,
   "metadata": {},
   "outputs": [
    {
     "data": {
      "text/plain": [
       "array([ 350,  352,  354, ..., 2496, 2498, 2500], shape=(1076,))"
      ]
     },
     "execution_count": null,
     "metadata": {},
     "output_type": "execute_result"
    }
   ],
   "source": [
    "#| eval: false\n",
    "ossl._extract_wavenumbers(ossl.visnir_cols)"
   ]
  },
  {
   "cell_type": "code",
   "execution_count": null,
   "metadata": {},
   "outputs": [],
   "source": [
    "#| exports\n",
    "@patch\n",
    "def _extract_measurement_type(self:OSSLData, \n",
    "                              cols: List[str] # column names\n",
    "                              ):\n",
    "    \"Extract measurement type from column names\"\n",
    "    types = set(re.search(r'_(\\w+)$', c).group(1) for c in cols)\n",
    "    assert len(types) == 1, f\"Mixed measurement types found: {types}\"\n",
    "    return types.pop()"
   ]
  },
  {
   "cell_type": "code",
   "execution_count": null,
   "metadata": {},
   "outputs": [
    {
     "data": {
      "text/plain": [
       "('ref', 'abs')"
      ]
     },
     "execution_count": null,
     "metadata": {},
     "output_type": "execute_result"
    }
   ],
   "source": [
    "#| eval: false\n",
    "ossl._extract_measurement_type(ossl.visnir_cols), ossl._extract_measurement_type(ossl.mir_cols)"
   ]
  },
  {
   "cell_type": "code",
   "execution_count": null,
   "metadata": {},
   "outputs": [],
   "source": [
    "#| exports\n",
    "@patch\n",
    "def _filter_wavelength_range(self:OSSLData, \n",
    "                             wavenumbers: np.ndarray, # wavenumbers\n",
    "                             spectra: np.ndarray, # spectra\n",
    "                             cols: List[str], # column names\n",
    "                             wmin: Optional[float]=None, # min wavenumber\n",
    "                             wmax: Optional[float]=None # max wavenumber\n",
    "                             ):\n",
    "    \"Filter spectra based on wavelength range\"\n",
    "    mask = np.ones(len(wavenumbers), dtype=bool)\n",
    "    if wmin is not None:\n",
    "        mask &= wavenumbers >= wmin\n",
    "    if wmax is not None:\n",
    "        mask &= wavenumbers <= wmax\n",
    "    return wavenumbers[mask], spectra[:, mask], [cols[i] for i in np.where(mask)[0]]"
   ]
  },
  {
   "cell_type": "code",
   "execution_count": null,
   "metadata": {},
   "outputs": [
    {
     "data": {
      "text/plain": [
       "(np.int64(500),\n",
       " np.int64(1000),\n",
       " (135651, 251),\n",
       " ['scan_visnir.500_ref', 'scan_visnir.502_ref'])"
      ]
     },
     "execution_count": null,
     "metadata": {},
     "output_type": "execute_result"
    }
   ],
   "source": [
    "#| eval: false\n",
    "wavenumbers, spectra, cols = ossl._filter_wavelength_range(\n",
    "    ossl._extract_wavenumbers(ossl.visnir_cols), \n",
    "    ossl.df[ossl.visnir_cols].values, \n",
    "    ossl.visnir_cols, \n",
    "    wmin=500, wmax=1000\n",
    ")\n",
    "wavenumbers.min(), wavenumbers.max(), spectra.shape, cols[:2]"
   ]
  },
  {
   "cell_type": "code",
   "execution_count": null,
   "metadata": {},
   "outputs": [
    {
     "data": {
      "text/plain": [
       "('scan_visnir.350_ref', 'scan_visnir.2500_ref')"
      ]
     },
     "execution_count": null,
     "metadata": {},
     "output_type": "execute_result"
    }
   ],
   "source": [
    "#| eval: false\n",
    "ossl.visnir_cols[0], ossl.visnir_cols[-1]"
   ]
  },
  {
   "cell_type": "code",
   "execution_count": null,
   "metadata": {},
   "outputs": [],
   "source": [
    "#| exports\n",
    "@patch \n",
    "def get_visnir(self:OSSLData, \n",
    "               wmin: Optional[float]=None, # min wavenumber\n",
    "               wmax: Optional[float]=None, # max wavenumber\n",
    "               require_valid: bool=True # if True, only return samples with no null values\n",
    "               ):\n",
    "    \"Get VISNIR spectra within specified wavenumber range\"\n",
    "    wavenumbers = self._extract_wavenumbers(self.visnir_cols)\n",
    "    spectra = self.df[self.visnir_cols].values\n",
    "    wavenumbers, _, filtered_cols = self._filter_wavelength_range(\n",
    "        wavenumbers, spectra, self.visnir_cols, wmin, wmax\n",
    "    )\n",
    "    \n",
    "    if require_valid:\n",
    "        valid_mask = self._get_valid_spectra_mask(filtered_cols)\n",
    "        df_subset = self.df[valid_mask]\n",
    "        sample_ids = self.sample_ids[valid_mask]\n",
    "    else:\n",
    "        df_subset = self.df\n",
    "        sample_ids = self.sample_ids\n",
    "        \n",
    "    spectra = df_subset[filtered_cols].values\n",
    "    measurement_type = self._extract_measurement_type(filtered_cols)\n",
    "    return SpectraData(wavenumbers, spectra, measurement_type, sample_ids)"
   ]
  },
  {
   "cell_type": "code",
   "execution_count": null,
   "metadata": {},
   "outputs": [
    {
     "data": {
      "text/plain": [
       "(64644, 251)"
      ]
     },
     "execution_count": null,
     "metadata": {},
     "output_type": "execute_result"
    }
   ],
   "source": [
    "#| eval: false\n",
    "visnir_data = ossl.get_visnir(wmin=500, wmax=1000, require_valid=True)\n",
    "visnir_data.spectra.shape"
   ]
  },
  {
   "cell_type": "code",
   "execution_count": null,
   "metadata": {},
   "outputs": [],
   "source": [
    "#| exports\n",
    "@patch \n",
    "def get_mir(self:OSSLData, \n",
    "            wmin: Optional[float]=600, # min wavenumber\n",
    "            wmax: Optional[float]=4000, # max wavenumber\n",
    "            require_valid: bool=True # if True, only return samples with no null values\n",
    "            ):\n",
    "    \"Get MIR spectra within specified wavenumber range\"\n",
    "    wavenumbers = self._extract_wavenumbers(self.mir_cols)\n",
    "    spectra = self.df[self.mir_cols].values\n",
    "    wavenumbers, _, filtered_cols = self._filter_wavelength_range(\n",
    "        wavenumbers, spectra, self.mir_cols, wmin, wmax\n",
    "    )\n",
    "    \n",
    "    if require_valid:\n",
    "        valid_mask = self._get_valid_spectra_mask(filtered_cols)\n",
    "        df_subset = self.df[valid_mask]\n",
    "        sample_ids = self.sample_ids[valid_mask]\n",
    "    else:\n",
    "        df_subset = self.df\n",
    "        sample_ids = self.sample_ids\n",
    "        \n",
    "    spectra = df_subset[filtered_cols].values\n",
    "    measurement_type = self._extract_measurement_type(filtered_cols)\n",
    "    \n",
    "    return SpectraData(wavenumbers, spectra, measurement_type, sample_ids)"
   ]
  },
  {
   "cell_type": "code",
   "execution_count": null,
   "metadata": {},
   "outputs": [
    {
     "data": {
      "text/plain": [
       "((85684, 1701), np.int64(600), np.int64(4000))"
      ]
     },
     "execution_count": null,
     "metadata": {},
     "output_type": "execute_result"
    }
   ],
   "source": [
    "#| eval: false\n",
    "mir_data = ossl.get_mir(require_valid=True)\n",
    "mir_data.spectra.shape, mir_data.wavenumbers.min(), mir_data.wavenumbers.max()"
   ]
  },
  {
   "cell_type": "code",
   "execution_count": null,
   "metadata": {},
   "outputs": [],
   "source": [
    "#| exports\n",
    "@patch\n",
    "def get_properties(self:OSSLData, \n",
    "                   properties=None, # properties\n",
    "                   require_complete: bool=False # if True, only return samples with no null values\n",
    "                   ):\n",
    "    \"Get properties data with sample IDs\"\n",
    "    if properties is None:\n",
    "        properties = self.properties_cols\n",
    "    elif isinstance(properties, str):\n",
    "        properties = [properties]\n",
    "            \n",
    "    df_subset = pd.DataFrame({\n",
    "        'id': self.sample_ids,\n",
    "        **{col: self.df[col] for col in properties}\n",
    "    }).set_index('id')\n",
    "        \n",
    "    if require_complete:\n",
    "        return df_subset.dropna()\n",
    "    return df_subset"
   ]
  },
  {
   "cell_type": "markdown",
   "metadata": {},
   "source": [
    "Get only complete MIR spectra:"
   ]
  },
  {
   "cell_type": "code",
   "execution_count": null,
   "metadata": {},
   "outputs": [],
   "source": [
    "#| eval: false\n",
    "ossl = get_ossl()\n",
    "mir_data = ossl.get_mir(require_valid=True)"
   ]
  },
  {
   "cell_type": "markdown",
   "metadata": {},
   "source": [
    "Get properties needed as ML targets (must be complete):"
   ]
  },
  {
   "cell_type": "code",
   "execution_count": null,
   "metadata": {},
   "outputs": [
    {
     "data": {
      "text/plain": [
       "((57064, 1),\n",
       "         cec_usda.a723_cmolc.kg\n",
       " id                            \n",
       " S40857                6.633217\n",
       " S40858                3.822628\n",
       " S40859                3.427324\n",
       " S40860                1.906545\n",
       " S40861               13.403203)"
      ]
     },
     "execution_count": null,
     "metadata": {},
     "output_type": "execute_result"
    }
   ],
   "source": [
    "#| eval: false\n",
    "targets = ossl.get_properties(['cec_usda.a723_cmolc.kg'], require_complete=True)\n",
    "targets.shape, targets.head()"
   ]
  },
  {
   "cell_type": "markdown",
   "metadata": {},
   "source": [
    "Get optional metadata (can have nulls):"
   ]
  },
  {
   "cell_type": "code",
   "execution_count": null,
   "metadata": {},
   "outputs": [
    {
     "data": {
      "text/plain": [
       "((135651, 2),\n",
       "            longitude.point_wgs84_dd  latitude.point_wgs84_dd\n",
       " id                                                          \n",
       " icr072246                 15.687492                -7.377750\n",
       " icr072247                 15.687492                -7.377750\n",
       " icr072266                 15.687817                -7.351243\n",
       " icr072267                 15.687817                -7.351243\n",
       " icr072286                 15.687965                -7.331673)"
      ]
     },
     "execution_count": null,
     "metadata": {},
     "output_type": "execute_result"
    }
   ],
   "source": [
    "#| eval: false\n",
    "metadata = ossl.get_properties(['longitude.point_wgs84_dd', 'latitude.point_wgs84_dd'], require_complete=False)\n",
    "metadata.shape, metadata.head()"
   ]
  },
  {
   "cell_type": "code",
   "execution_count": null,
   "metadata": {},
   "outputs": [],
   "source": [
    "#| exports\n",
    "@patch\n",
    "def get_aligned_data(self:OSSLData, \n",
    "                    spectra_data: SpectraData, # spectra data\n",
    "                    target_cols: Union[str, List[str]] # target columns\n",
    "                    ): \n",
    "    \"Get aligned spectra and target data for ML, along with their sample IDs.\"\n",
    "    # Get targets with complete data\n",
    "    targets = self.get_properties(target_cols, require_complete=True)\n",
    "    \n",
    "    # Find common IDs between spectra and targets\n",
    "    common_ids = list(set(spectra_data.sample_ids) & set(targets.index))\n",
    "    \n",
    "    # Create index mapping for efficient lookup\n",
    "    spectra_id_to_idx = {id_: idx for idx, id_ in enumerate(spectra_data.sample_ids)}\n",
    "    \n",
    "    # Get indices for alignment\n",
    "    indices = [spectra_id_to_idx[id_] for id_ in common_ids]\n",
    "    \n",
    "    # Align the data\n",
    "    features = spectra_data.spectra[indices]\n",
    "    targets = targets.loc[common_ids].values\n",
    "    sample_ids = np.array(common_ids)\n",
    "    \n",
    "    return features, targets, sample_ids"
   ]
  },
  {
   "cell_type": "code",
   "execution_count": null,
   "metadata": {},
   "outputs": [],
   "source": [
    "#| eval: false\n",
    "def test_get_aligned_data():\n",
    "    # Create a small test DataFrame\n",
    "    test_df = pd.DataFrame({\n",
    "        'id.layer_local_c': ['A1', 'A2', 'A3', 'A4'],\n",
    "        'cec_usda.a723_cmolc.kg': [1.0, 2.0, np.nan, 4.0],\n",
    "        'scan_mir.600_abs': [0.1, 0.2, 0.3, 0.4],\n",
    "        'scan_mir.700_abs': [1.1, 1.2, 1.3, 1.4]\n",
    "    })\n",
    "    \n",
    "    # Create OSSLData instance\n",
    "    ossl = OSSLData(test_df)\n",
    "    \n",
    "    # Get MIR spectra\n",
    "    mir_data = ossl.get_mir(require_valid=True)\n",
    "    \n",
    "    # Get aligned data\n",
    "    features, targets, ids = ossl.get_aligned_data(\n",
    "        spectra_data=mir_data,\n",
    "        target_cols='cec_usda.a723_cmolc.kg'\n",
    "    )\n",
    "    \n",
    "    # Tests\n",
    "    assert features.shape == (3, 2), f\"Expected shape (3, 2), got {features.shape}\"\n",
    "    assert targets.shape == (3, 1), f\"Expected shape (3, 1), got {targets.shape}\"\n",
    "    assert len(ids) == 3, f\"Expected 3 ids, got {len(ids)}\"\n",
    "    \n",
    "    # Check if A3 (with NaN target) is excluded\n",
    "    assert 'A3' not in ids, \"Sample with NaN target should be excluded\"\n",
    "    \n",
    "    # Check if values are correctly aligned\n",
    "    expected_targets = np.array([[1.0], [2.0], [4.0]])\n",
    "    np.testing.assert_array_almost_equal(targets, expected_targets)\n",
    "    \n",
    "    expected_features = np.array([\n",
    "        [0.1, 1.1],\n",
    "        [0.2, 1.2],\n",
    "        [0.4, 1.4]\n",
    "    ])\n",
    "    np.testing.assert_array_almost_equal(features, expected_features)\n",
    "    \n",
    "    # Check if IDs match\n",
    "    expected_ids = np.array(['A1', 'A2', 'A4'])\n",
    "    np.testing.assert_array_equal(ids, expected_ids)\n",
    "\n",
    "test_get_aligned_data()"
   ]
  },
  {
   "cell_type": "markdown",
   "metadata": {},
   "source": [
    "How to use?"
   ]
  },
  {
   "cell_type": "code",
   "execution_count": null,
   "metadata": {},
   "outputs": [
    {
     "data": {
      "text/plain": [
       "((57062, 1701), (57062, 1), (57062,))"
      ]
     },
     "execution_count": null,
     "metadata": {},
     "output_type": "execute_result"
    }
   ],
   "source": [
    "#| eval: false\n",
    "X, y, ids = ossl.get_aligned_data(\n",
    "    spectra_data=mir_data,\n",
    "    target_cols='cec_usda.a723_cmolc.kg'\n",
    ")\n",
    "\n",
    "X.shape, y.shape, ids.shape"
   ]
  },
  {
   "cell_type": "code",
   "execution_count": null,
   "metadata": {},
   "outputs": [
    {
     "data": {
      "text/plain": [
       "(array([[1.72552, 1.74202, 1.75742, ..., 0.3168 , 0.316  , 0.31515],\n",
       "        [1.56018, 1.55495, 1.55105, ..., 0.11978, 0.11947, 0.11925],\n",
       "        [1.56395, 1.566  , 1.56942, ..., 0.22598, 0.22558, 0.22518],\n",
       "        [1.59468, 1.5963 , 1.59908, ..., 0.16742, 0.16718, 0.16685],\n",
       "        [1.406  , 1.40578, 1.407  , ..., 0.09735, 0.09722, 0.09702]],\n",
       "       shape=(5, 1701)),\n",
       " array([[36.05333],\n",
       "        [ 7.29322],\n",
       "        [14.60657],\n",
       "        [30.39838],\n",
       "        [10.71835]]),\n",
       " array(['11762', '197528', '67123', '178714', '168503'], dtype='<U12'))"
      ]
     },
     "execution_count": null,
     "metadata": {},
     "output_type": "execute_result"
    }
   ],
   "source": [
    "#| eval: false\n",
    "X[:5], y[:5], ids[:5]\n"
   ]
  },
  {
   "cell_type": "markdown",
   "metadata": {},
   "source": [
    "Later, if you need metadata for these samples:"
   ]
  },
  {
   "cell_type": "code",
   "execution_count": null,
   "metadata": {},
   "outputs": [
    {
     "data": {
      "text/html": [
       "<div>\n",
       "<style scoped>\n",
       "    .dataframe tbody tr th:only-of-type {\n",
       "        vertical-align: middle;\n",
       "    }\n",
       "\n",
       "    .dataframe tbody tr th {\n",
       "        vertical-align: top;\n",
       "    }\n",
       "\n",
       "    .dataframe thead th {\n",
       "        text-align: right;\n",
       "    }\n",
       "</style>\n",
       "<table border=\"1\" class=\"dataframe\">\n",
       "  <thead>\n",
       "    <tr style=\"text-align: right;\">\n",
       "      <th></th>\n",
       "      <th>longitude.point_wgs84_dd</th>\n",
       "      <th>latitude.point_wgs84_dd</th>\n",
       "    </tr>\n",
       "    <tr>\n",
       "      <th>id</th>\n",
       "      <th></th>\n",
       "      <th></th>\n",
       "    </tr>\n",
       "  </thead>\n",
       "  <tbody>\n",
       "    <tr>\n",
       "      <th>11762</th>\n",
       "      <td>-123.096299</td>\n",
       "      <td>45.331855</td>\n",
       "    </tr>\n",
       "    <tr>\n",
       "      <th>197528</th>\n",
       "      <td>-91.477896</td>\n",
       "      <td>36.915254</td>\n",
       "    </tr>\n",
       "    <tr>\n",
       "      <th>67123</th>\n",
       "      <td>-99.179787</td>\n",
       "      <td>31.150749</td>\n",
       "    </tr>\n",
       "    <tr>\n",
       "      <th>178714</th>\n",
       "      <td>NaN</td>\n",
       "      <td>NaN</td>\n",
       "    </tr>\n",
       "    <tr>\n",
       "      <th>168503</th>\n",
       "      <td>NaN</td>\n",
       "      <td>NaN</td>\n",
       "    </tr>\n",
       "  </tbody>\n",
       "</table>\n",
       "</div>"
      ],
      "text/plain": [
       "        longitude.point_wgs84_dd  latitude.point_wgs84_dd\n",
       "id                                                       \n",
       "11762                -123.096299                45.331855\n",
       "197528                -91.477896                36.915254\n",
       "67123                 -99.179787                31.150749\n",
       "178714                       NaN                      NaN\n",
       "168503                       NaN                      NaN"
      ]
     },
     "execution_count": null,
     "metadata": {},
     "output_type": "execute_result"
    }
   ],
   "source": [
    "#| eval: false\n",
    "metadata = ossl.get_properties(['longitude.point_wgs84_dd', 'latitude.point_wgs84_dd']).loc[ids]\n",
    "metadata.head()"
   ]
  }
 ],
 "metadata": {
  "kernelspec": {
   "display_name": "python3",
   "language": "python",
   "name": "python3"
  }
 },
 "nbformat": 4,
 "nbformat_minor": 4
}
