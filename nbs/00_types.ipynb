{
 "cells": [
  {
   "cell_type": "markdown",
   "metadata": {},
   "source": [
    "# Types\n",
    "\n",
    "> Main types used in the package."
   ]
  },
  {
   "cell_type": "code",
   "execution_count": null,
   "metadata": {},
   "outputs": [],
   "source": [
    "#| default_exp types"
   ]
  },
  {
   "cell_type": "code",
   "execution_count": null,
   "metadata": {},
   "outputs": [],
   "source": [
    "#| exports\n",
    "from dataclasses import dataclass\n",
    "import numpy as np"
   ]
  },
  {
   "cell_type": "code",
   "execution_count": null,
   "metadata": {},
   "outputs": [],
   "source": [
    "#| exports\n",
    "@dataclass\n",
    "class SpectraData:\n",
    "    wavenumbers: np.ndarray\n",
    "    spectra: np.ndarray\n",
    "    measurement_type: str\n",
    "    sample_ids: np.ndarray  # Adding sample IDs to maintain relationships\n",
    "    \n",
    "    def __str__(self):\n",
    "        \"\"\"Pretty print the SpectraData object\"\"\"\n",
    "        sections = [\n",
    "            (\"SpectraData attributes\", f\"Available attributes: {', '.join(vars(self).keys())}\"),\n",
    "            \n",
    "            (\"Wavenumbers\", \n",
    "             f\"{np.array2string(self.wavenumbers[:10], precision=2, separator=', ')}\\n\"\n",
    "             f\"Shape: {self.wavenumbers.shape}\"),\n",
    "            \n",
    "            (\"Spectra\", \n",
    "             f\"{np.array2string(self.spectra[:5,:5], precision=4, separator=', ')}\\n\"\n",
    "             f\"Shape: {self.spectra.shape}\"),\n",
    "            \n",
    "            (\"Measurement type (Reflectance or Absorbance)\", self.measurement_type),\n",
    "            \n",
    "            (\"Sample IDs\", \n",
    "             f\"{np.array2string(self.sample_ids[:10], separator=', ')}\\n\"\n",
    "             f\"Total samples: {len(self.sample_ids)}\")\n",
    "        ]\n",
    "        \n",
    "        return '\\n\\n'.join(f\"{title}:\\n{'-'*len(title)}\\n{content}\" \n",
    "                          for title, content in sections)"
   ]
  }
 ],
 "metadata": {
  "kernelspec": {
   "display_name": "python3",
   "language": "python",
   "name": "python3"
  }
 },
 "nbformat": 4,
 "nbformat_minor": 4
}
