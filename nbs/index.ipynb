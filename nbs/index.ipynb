{
 "cells": [
  {
   "cell_type": "markdown",
   "metadata": {},
   "source": [
    "# SoilSpecData"
   ]
  },
  {
   "cell_type": "markdown",
   "metadata": {},
   "source": [
    "\n",
    "> A Python package for handling soil spectroscopy data, with a focus on the [Open Soil Spectral Library (OSSL)](https://explorer.soilspectroscopy.org/)."
   ]
  },
  {
   "cell_type": "markdown",
   "metadata": {},
   "source": [
    "## Installation"
   ]
  },
  {
   "cell_type": "markdown",
   "metadata": {},
   "source": [
    "```sh\n",
    "pip install soilspecdata\n",
    "```"
   ]
  },
  {
   "cell_type": "markdown",
   "metadata": {},
   "source": [
    "## Features\n",
    "\n",
    "- Easy loading and handling of OSSL dataset\n",
    "- Support for both VISNIR (Visible Near-Infrared) and MIR (Mid-Infrared) spectral data\n",
    "- Flexible wavelength range filtering\n",
    "- Convenient access to soil properties and metadata\n",
    "- Automatic caching of downloaded data\n",
    "- Get aligned spectra and target variable(s)\n",
    "- *Further datasets to come ...*\n",
    "\n",
    "## Quick Start\n"
   ]
  },
  {
   "cell_type": "code",
   "execution_count": null,
   "metadata": {},
   "outputs": [],
   "source": [
    "# Import the package\n",
    "from soilspecdata.datasets.ossl import get_ossl"
   ]
  },
  {
   "cell_type": "markdown",
   "metadata": {},
   "source": [
    "Load the OSSL dataset:"
   ]
  },
  {
   "cell_type": "code",
   "execution_count": null,
   "metadata": {},
   "outputs": [],
   "source": [
    "#| eval: false\n",
    "ossl = get_ossl()"
   ]
  },
  {
   "cell_type": "markdown",
   "metadata": {},
   "source": [
    "* Get MIR spectra (600-4000 cm⁻¹):\n"
   ]
  },
  {
   "cell_type": "code",
   "execution_count": null,
   "metadata": {},
   "outputs": [],
   "source": [
    "#| eval: false\n",
    "mir_data = ossl.get_mir(require_valid=True)"
   ]
  },
  {
   "cell_type": "markdown",
   "metadata": {},
   "source": [
    "* Get VISNIR spectra with custom wavelength range:"
   ]
  },
  {
   "cell_type": "code",
   "execution_count": null,
   "metadata": {},
   "outputs": [],
   "source": [
    "#| eval: false\n",
    "visnir_data = ossl.get_visnir(wmin=500, wmax=1000, require_valid=True)"
   ]
  },
  {
   "cell_type": "markdown",
   "metadata": {},
   "source": [
    "* Get soil properties (e.g., CEC):"
   ]
  },
  {
   "cell_type": "code",
   "execution_count": null,
   "metadata": {},
   "outputs": [],
   "source": [
    "#| eval: false\n",
    "properties = ossl.get_properties(['cec_usda.a723_cmolc.kg'], require_complete=True)"
   ]
  },
  {
   "cell_type": "markdown",
   "metadata": {},
   "source": [
    "For more details on the OSSL dataset and its variables, see the [OSSL documentation](https://soilspectroscopy.github.io/ossl-manual/database-description.html).\n",
    "\n"
   ]
  },
  {
   "cell_type": "markdown",
   "metadata": {},
   "source": [
    "* Get metadata (e.g., geographical coordinates):\n"
   ]
  },
  {
   "cell_type": "code",
   "execution_count": null,
   "metadata": {},
   "outputs": [],
   "source": [
    "#| eval: false\n",
    "metadata = ossl.get_properties(['longitude.point_wgs84_dd', 'latitude.point_wgs84_dd'], require_complete=False)"
   ]
  },
  {
   "cell_type": "markdown",
   "metadata": {},
   "source": [
    "* Or to get directly aligned spectra and target variable(s):"
   ]
  },
  {
   "cell_type": "code",
   "execution_count": null,
   "metadata": {},
   "outputs": [
    {
     "data": {
      "text/plain": [
       "((57062, 1701), (57062, 1), (57062,))"
      ]
     },
     "execution_count": null,
     "metadata": {},
     "output_type": "execute_result"
    }
   ],
   "source": [
    "#| eval: false\n",
    "X, y, ids = ossl.get_aligned_data(\n",
    "    spectra_data=mir_data,\n",
    "    target_cols='cec_usda.a723_cmolc.kg'\n",
    ")\n",
    "\n",
    "X.shape, y.shape, ids.shape"
   ]
  },
  {
   "cell_type": "markdown",
   "metadata": {},
   "source": [
    "## Data Structure\n",
    "\n",
    "The package returns spectra data in a structured format containing:\n",
    "- Wavenumbers\n",
    "- Spectra measurements\n",
    "- Measurement type (reflectance/absorbance)\n",
    "- Sample IDs\n",
    "\n",
    "Properties and metadata are returned as pandas DataFrames indexed by sample ID."
   ]
  },
  {
   "cell_type": "markdown",
   "metadata": {},
   "source": [
    "\n",
    "## Cache Management\n",
    "\n",
    "By default, the OSSL dataset is cached in `~/.soilspecdata/`. To force a fresh download:\n",
    "\n",
    "```python\n",
    "ossl = get_ossl(force_download=True)\n",
    "```"
   ]
  },
  {
   "cell_type": "markdown",
   "metadata": {},
   "source": [
    "\n",
    "## Contributing\n",
    "\n",
    "Contributions are welcome! Please feel free to submit a Pull Request.\n",
    "\n",
    "## License\n",
    "\n",
    "Apache2\n",
    "\n",
    "## Citation\n",
    "\n",
    "TBC"
   ]
  }
 ],
 "metadata": {
  "kernelspec": {
   "display_name": "python3",
   "language": "python",
   "name": "python3"
  }
 },
 "nbformat": 4,
 "nbformat_minor": 4
}
